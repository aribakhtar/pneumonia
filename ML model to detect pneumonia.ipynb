{
 "cells": [
  {
   "cell_type": "markdown",
   "id": "2a5e1e33",
   "metadata": {},
   "source": [
    "# We will detect pneumonia,a lung disease based on the x-rays we have. "
   ]
  },
  {
   "cell_type": "markdown",
   "id": "61e3fe05",
   "metadata": {},
   "source": [
    "Chest X-rays dataset is taken from Kaggle which contain various x-rays images differentiated by two categories “Pneumonia” and “Normal”. I will be creating a deep learning model which will actually tell us whether the person is having pneumonia disease or not having pneumonia."
   ]
  },
  {
   "cell_type": "code",
   "execution_count": 2,
   "id": "5318aa6a",
   "metadata": {},
   "outputs": [],
   "source": [
    "from keras.models import Model\n",
    "from keras.layers import Flatten,Dense\n",
    "from keras.applications.vgg16 import VGG16\n",
    "import matplotlib.pyplot as plot\n",
    "from glob import glob\n",
    "from tensorflow.keras.optimizers.legacy import Adam"
   ]
  },
  {
   "cell_type": "code",
   "execution_count": 3,
   "id": "4e0c79ae",
   "metadata": {},
   "outputs": [],
   "source": [
    "IMAGESHAPE = [224, 224, 3] #Provide image size as 224 x 224 this is a fixed-size for VGG16 architecture\n",
    "vgg_model = VGG16(input_shape=IMAGESHAPE, weights='imagenet', include_top=False)\n",
    "#3 signifies that we are working with RGB type of images.\n",
    "\n",
    "\n",
    "training_data = \"C:\\\\Users\\\\MD AREEB  AKHTAR\\\\OneDrive\\\\Desktop\\\\archive\\\\chest_xray\\\\train\"\n",
    "testing_data =\"C:\\\\Users\\\\MD AREEB  AKHTAR\\\\OneDrive\\\\Desktop\\\\archive\\\\chest_xray\\\\test\" #Give our training and testing path\n"
   ]
  },
  {
   "cell_type": "code",
   "execution_count": 4,
   "id": "ca66a745",
   "metadata": {},
   "outputs": [],
   "source": [
    "for each_layer in vgg_model.layers:\n",
    "\teach_layer.trainable = False\n"
   ]
  },
  {
   "cell_type": "code",
   "execution_count": 5,
   "id": "00ef5b1b",
   "metadata": {},
   "outputs": [],
   "source": [
    "classes = glob(\"C:\\\\Users\\\\MD AREEB  AKHTAR\\\\OneDrive\\\\Desktop\\\\archive\\\\chest_xray\\\\train/*\")"
   ]
  },
  {
   "cell_type": "markdown",
   "id": "af54fa02",
   "metadata": {},
   "source": [
    " As we deleted the first and the last columns in the previous step, We will just make a flattened layer and finally we just add our last layer with a softmax activation function. len(classes) indicate how many categories we have in our output layer."
   ]
  },
  {
   "cell_type": "code",
   "execution_count": 6,
   "id": "13ca1bb2",
   "metadata": {},
   "outputs": [],
   "source": [
    "flatten_layer = Flatten()(vgg_model.output)\n",
    "prediction = Dense(len(classes), activation='softmax')(flatten_layer)\n"
   ]
  },
  {
   "cell_type": "code",
   "execution_count": 7,
   "id": "ad1fd625",
   "metadata": {},
   "outputs": [
    {
     "name": "stdout",
     "output_type": "stream",
     "text": [
      "Model: \"model\"\n",
      "_________________________________________________________________\n",
      " Layer (type)                Output Shape              Param #   \n",
      "=================================================================\n",
      " input_1 (InputLayer)        [(None, 224, 224, 3)]     0         \n",
      "                                                                 \n",
      " block1_conv1 (Conv2D)       (None, 224, 224, 64)      1792      \n",
      "                                                                 \n",
      " block1_conv2 (Conv2D)       (None, 224, 224, 64)      36928     \n",
      "                                                                 \n",
      " block1_pool (MaxPooling2D)  (None, 112, 112, 64)      0         \n",
      "                                                                 \n",
      " block2_conv1 (Conv2D)       (None, 112, 112, 128)     73856     \n",
      "                                                                 \n",
      " block2_conv2 (Conv2D)       (None, 112, 112, 128)     147584    \n",
      "                                                                 \n",
      " block2_pool (MaxPooling2D)  (None, 56, 56, 128)       0         \n",
      "                                                                 \n",
      " block3_conv1 (Conv2D)       (None, 56, 56, 256)       295168    \n",
      "                                                                 \n",
      " block3_conv2 (Conv2D)       (None, 56, 56, 256)       590080    \n",
      "                                                                 \n",
      " block3_conv3 (Conv2D)       (None, 56, 56, 256)       590080    \n",
      "                                                                 \n",
      " block3_pool (MaxPooling2D)  (None, 28, 28, 256)       0         \n",
      "                                                                 \n",
      " block4_conv1 (Conv2D)       (None, 28, 28, 512)       1180160   \n",
      "                                                                 \n",
      " block4_conv2 (Conv2D)       (None, 28, 28, 512)       2359808   \n",
      "                                                                 \n",
      " block4_conv3 (Conv2D)       (None, 28, 28, 512)       2359808   \n",
      "                                                                 \n",
      " block4_pool (MaxPooling2D)  (None, 14, 14, 512)       0         \n",
      "                                                                 \n",
      " block5_conv1 (Conv2D)       (None, 14, 14, 512)       2359808   \n",
      "                                                                 \n",
      " block5_conv2 (Conv2D)       (None, 14, 14, 512)       2359808   \n",
      "                                                                 \n",
      " block5_conv3 (Conv2D)       (None, 14, 14, 512)       2359808   \n",
      "                                                                 \n",
      " block5_pool (MaxPooling2D)  (None, 7, 7, 512)         0         \n",
      "                                                                 \n",
      " flatten (Flatten)           (None, 25088)             0         \n",
      "                                                                 \n",
      " dense (Dense)               (None, 2)                 50178     \n",
      "                                                                 \n",
      "=================================================================\n",
      "Total params: 14764866 (56.32 MB)\n",
      "Trainable params: 50178 (196.01 KB)\n",
      "Non-trainable params: 14714688 (56.13 MB)\n",
      "_________________________________________________________________\n"
     ]
    }
   ],
   "source": [
    "final_model = Model(inputs=vgg_model.input, outputs=prediction)\n",
    "final_model.summary()\n"
   ]
  },
  {
   "cell_type": "markdown",
   "id": "67e686f6",
   "metadata": {},
   "source": [
    "# Compiling our model"
   ]
  },
  {
   "cell_type": "code",
   "execution_count": 8,
   "id": "f311149b",
   "metadata": {},
   "outputs": [],
   "source": [
    "final_model.compile(\n",
    "loss='categorical_crossentropy',\n",
    "optimizer='adam',\n",
    "metrics=['accuracy']\n",
    ")\n"
   ]
  },
  {
   "cell_type": "code",
   "execution_count": 10,
   "id": "817e4b0b",
   "metadata": {},
   "outputs": [],
   "source": [
    "from keras.preprocessing.image import ImageDataGenerator\n",
    "train_datagen = ImageDataGenerator(rescale = 1./255,\n",
    "\t\t\t\t\t\t\t\tshear_range = 0.2,\n",
    "\t\t\t\t\t\t\t\tzoom_range = 0.2,\n",
    "\t\t\t\t\t\t\t\thorizontal_flip = True)\n",
    "testing_datagen = ImageDataGenerator(rescale =1. / 255)\n"
   ]
  },
  {
   "cell_type": "code",
   "execution_count": 11,
   "id": "dfea8dc7",
   "metadata": {},
   "outputs": [
    {
     "name": "stdout",
     "output_type": "stream",
     "text": [
      "Found 5216 images belonging to 2 classes.\n"
     ]
    }
   ],
   "source": [
    "training_set = train_datagen.flow_from_directory(\"C:\\\\Users\\\\MD AREEB  AKHTAR\\\\OneDrive\\\\Desktop\\\\archive\\\\chest_xray\\\\train\",\n",
    "\t\t\t\t\t\t\t\t\t\t\t\ttarget_size = (224, 224),\n",
    "\t\t\t\t\t\t\t\t\t\t\t\tbatch_size = 4,\n",
    "\t\t\t\t\t\t\t\t\t\t\t\tclass_mode = 'categorical')\n"
   ]
  },
  {
   "cell_type": "code",
   "execution_count": 12,
   "id": "bb635964",
   "metadata": {},
   "outputs": [
    {
     "name": "stdout",
     "output_type": "stream",
     "text": [
      "Found 624 images belonging to 2 classes.\n"
     ]
    }
   ],
   "source": [
    "test_set = testing_datagen.flow_from_directory(\"C:\\\\Users\\\\MD AREEB  AKHTAR\\\\OneDrive\\\\Desktop\\\\archive\\\\chest_xray\\\\test\",\n",
    "\t\t\t\t\t\t\t\t\t\t\ttarget_size = (224, 224),\n",
    "\t\t\t\t\t\t\t\t\t\t\tbatch_size = 4,\n",
    "\t\t\t\t\t\t\t\t\t\t\tclass_mode = 'categorical')\n"
   ]
  },
  {
   "cell_type": "markdown",
   "id": "a03f4d44",
   "metadata": {},
   "source": [
    "# Creating our model with epoch 5"
   ]
  },
  {
   "cell_type": "code",
   "execution_count": 13,
   "id": "7aff2014",
   "metadata": {},
   "outputs": [
    {
     "name": "stderr",
     "output_type": "stream",
     "text": [
      "C:\\Users\\MD AREEB  AKHTAR\\AppData\\Local\\Temp\\ipykernel_18756\\1085249960.py:1: UserWarning: `Model.fit_generator` is deprecated and will be removed in a future version. Please use `Model.fit`, which supports generators.\n",
      "  fitted_model = final_model.fit_generator( #Fitting the model.\n"
     ]
    },
    {
     "name": "stdout",
     "output_type": "stream",
     "text": [
      "Epoch 1/5\n",
      "1304/1304 [==============================] - 893s 683ms/step - loss: 0.2624 - accuracy: 0.9266 - val_loss: 0.5100 - val_accuracy: 0.9006\n",
      "Epoch 2/5\n",
      "1304/1304 [==============================] - 851s 652ms/step - loss: 0.2390 - accuracy: 0.9480 - val_loss: 1.3120 - val_accuracy: 0.8413\n",
      "Epoch 3/5\n",
      "1304/1304 [==============================] - 851s 652ms/step - loss: 0.1978 - accuracy: 0.9571 - val_loss: 0.9160 - val_accuracy: 0.8622\n",
      "Epoch 4/5\n",
      "1304/1304 [==============================] - 1004s 770ms/step - loss: 0.2276 - accuracy: 0.9519 - val_loss: 2.6130 - val_accuracy: 0.7692\n",
      "Epoch 5/5\n",
      "1304/1304 [==============================] - 1059s 812ms/step - loss: 0.2169 - accuracy: 0.9603 - val_loss: 1.2514 - val_accuracy: 0.8814\n"
     ]
    }
   ],
   "source": [
    "fitted_model = final_model.fit_generator( #Fitting the model.\n",
    "training_set,\n",
    "validation_data=test_set,\n",
    "epochs=5,\n",
    "steps_per_epoch=len(training_set),\n",
    "validation_steps=len(test_set)\n",
    ")"
   ]
  },
  {
   "cell_type": "code",
   "execution_count": 17,
   "id": "289298ec",
   "metadata": {},
   "outputs": [
    {
     "name": "stderr",
     "output_type": "stream",
     "text": [
      "C:\\Python310\\lib\\site-packages\\keras\\src\\engine\\training.py:3000: UserWarning: You are saving your model as an HDF5 file via `model.save()`. This file format is considered legacy. We recommend using instead the native Keras format, e.g. `model.save('my_model.keras')`.\n",
      "  saving_api.save_model(\n"
     ]
    }
   ],
   "source": [
    "final_model.save('our_model.h5')\n"
   ]
  },
  {
   "cell_type": "markdown",
   "id": "731aa3eb",
   "metadata": {},
   "source": [
    "# Testing our model against data which we have"
   ]
  },
  {
   "cell_type": "code",
   "execution_count": 18,
   "id": "4bed7934",
   "metadata": {},
   "outputs": [
    {
     "name": "stdout",
     "output_type": "stream",
     "text": [
      "1/1 [==============================] - 0s 399ms/step\n",
      "Person is affected with Pneumonia.\n",
      "Predictions: [[1.3112796e-23 1.0000000e+00]]\n"
     ]
    }
   ],
   "source": [
    "from keras_preprocessing import image\n",
    "from keras.models import load_model\n",
    "from keras.applications.vgg16 import preprocess_input\n",
    "import numpy as np\n",
    "model=load_model('our_model.h5') #Loading our model\n",
    "img=image.load_img(\"C:\\\\Users\\\\MD AREEB  AKHTAR\\\\OneDrive\\\\Desktop\\\\archive\\\\chest_xray\\\\val\\\\PNEUMONIA\\\\person1954_bacteria_4886.jpeg\",target_size=(224,224))\n",
    "imagee=image.img_to_array(img) #Converting the X-Ray into pixels\n",
    "imagee=np.expand_dims(imagee, axis=0)\n",
    "img_data=preprocess_input(imagee)\n",
    "prediction=model.predict(img_data)\n",
    "if prediction[0][0]>prediction[0][1]: #Printing the prediction of model.\n",
    "\tprint('Person is safe.')\n",
    "else:\n",
    "\tprint('Person is affected with Pneumonia.')\n",
    "print(f'Predictions: {prediction}')\n"
   ]
  },
  {
   "cell_type": "code",
   "execution_count": null,
   "id": "604818de",
   "metadata": {},
   "outputs": [],
   "source": []
  }
 ],
 "metadata": {
  "kernelspec": {
   "display_name": "Python 3 (ipykernel)",
   "language": "python",
   "name": "python3"
  },
  "language_info": {
   "codemirror_mode": {
    "name": "ipython",
    "version": 3
   },
   "file_extension": ".py",
   "mimetype": "text/x-python",
   "name": "python",
   "nbconvert_exporter": "python",
   "pygments_lexer": "ipython3",
   "version": "3.10.4"
  }
 },
 "nbformat": 4,
 "nbformat_minor": 5
}
